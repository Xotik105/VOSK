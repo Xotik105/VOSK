{
  "nbformat": 4,
  "nbformat_minor": 0,
  "metadata": {
    "colab": {
      "name": "VOSK_speech_to_text.ipynb",
      "provenance": [],
      "mount_file_id": "1rlaDXY20EKRsxnYtqAZATonHMLZKs14W",
      "authorship_tag": "ABX9TyPd5hVWEu8Nyb7mTmpOWgak",
      "include_colab_link": true
    },
    "kernelspec": {
      "name": "python3",
      "display_name": "Python 3"
    },
    "language_info": {
      "name": "python"
    }
  },
  "cells": [
    {
      "cell_type": "markdown",
      "metadata": {
        "id": "view-in-github",
        "colab_type": "text"
      },
      "source": [
        "<a href=\"https://colab.research.google.com/github/Xotik105/VOSK/blob/main/VOSK_speech_to_text.ipynb\" target=\"_parent\"><img src=\"https://colab.research.google.com/assets/colab-badge.svg\" alt=\"Open In Colab\"/></a>"
      ]
    },
    {
      "cell_type": "code",
      "execution_count": 1,
      "metadata": {
        "colab": {
          "base_uri": "https://localhost:8080/"
        },
        "id": "LhCxdyAJp9g9",
        "outputId": "d70d6cb3-2ee9-411b-b37e-77bb83dcbd22"
      },
      "outputs": [
        {
          "output_type": "stream",
          "name": "stdout",
          "text": [
            "Cloning into 'ffmpeg'...\n",
            "remote: Enumerating objects: 4407, done.\u001b[K\n",
            "remote: Counting objects: 100% (4407/4407), done.\u001b[K\n",
            "remote: Compressing objects: 100% (3210/3210), done.\u001b[K\n",
            "remote: Total 664960 (delta 3228), reused 1316 (delta 1186)\n",
            "Receiving objects: 100% (664960/664960), 159.27 MiB | 17.46 MiB/s, done.\n",
            "Resolving deltas: 100% (537112/537112), done.\n"
          ]
        }
      ],
      "source": [
        "!git clone https://git.ffmpeg.org/ffmpeg.git ffmpeg"
      ]
    },
    {
      "cell_type": "code",
      "source": [
        "# Install dependencies\n",
        "!pip install wget pydub wave tqdm vosk\n",
        "!apt-get ffmpeg\n",
        "\n",
        "# Download Vosk model\n",
        "!mkdir models\n",
        "!wget -P models/ https://alphacephei.com/vosk/models/vosk-model-en-us-0.22.zip\n",
        "!unzip models/vosk-model-en-us-0.22.zip -d models/ && rm models/vosk-model-en-us-0.22.zip"
      ],
      "metadata": {
        "colab": {
          "base_uri": "https://localhost:8080/"
        },
        "id": "f13WvzIz_7aD",
        "outputId": "20ac9083-7af2-4508-bef3-aa778587fbf1"
      },
      "execution_count": 2,
      "outputs": [
        {
          "output_type": "stream",
          "name": "stdout",
          "text": [
            "Looking in indexes: https://pypi.org/simple, https://us-python.pkg.dev/colab-wheels/public/simple/\n",
            "Collecting wget\n",
            "  Downloading wget-3.2.zip (10 kB)\n",
            "Requirement already satisfied: pydub in /usr/local/lib/python3.7/dist-packages (0.25.1)\n",
            "Collecting wave\n",
            "  Downloading Wave-0.0.2.zip (38 kB)\n",
            "Requirement already satisfied: tqdm in /usr/local/lib/python3.7/dist-packages (4.64.0)\n",
            "Collecting vosk\n",
            "  Downloading vosk-0.3.42-py3-none-manylinux_2_12_x86_64.manylinux2010_x86_64.whl (7.2 MB)\n",
            "\u001b[K     |████████████████████████████████| 7.2 MB 7.7 MB/s \n",
            "\u001b[?25hRequirement already satisfied: requests in /usr/local/lib/python3.7/dist-packages (from vosk) (2.23.0)\n",
            "Collecting srt\n",
            "  Downloading srt-3.5.2.tar.gz (24 kB)\n",
            "Requirement already satisfied: cffi>=1.0 in /usr/local/lib/python3.7/dist-packages (from vosk) (1.15.0)\n",
            "Requirement already satisfied: pycparser in /usr/local/lib/python3.7/dist-packages (from cffi>=1.0->vosk) (2.21)\n",
            "Requirement already satisfied: urllib3!=1.25.0,!=1.25.1,<1.26,>=1.21.1 in /usr/local/lib/python3.7/dist-packages (from requests->vosk) (1.24.3)\n",
            "Requirement already satisfied: certifi>=2017.4.17 in /usr/local/lib/python3.7/dist-packages (from requests->vosk) (2022.5.18.1)\n",
            "Requirement already satisfied: idna<3,>=2.5 in /usr/local/lib/python3.7/dist-packages (from requests->vosk) (2.10)\n",
            "Requirement already satisfied: chardet<4,>=3.0.2 in /usr/local/lib/python3.7/dist-packages (from requests->vosk) (3.0.4)\n",
            "Building wheels for collected packages: wget, wave, srt\n",
            "  Building wheel for wget (setup.py) ... \u001b[?25l\u001b[?25hdone\n",
            "  Created wheel for wget: filename=wget-3.2-py3-none-any.whl size=9675 sha256=d6bd2afa1765bc90848688356638b7c4fb4138eed52719d6ca7eca2d9a503077\n",
            "  Stored in directory: /root/.cache/pip/wheels/a1/b6/7c/0e63e34eb06634181c63adacca38b79ff8f35c37e3c13e3c02\n",
            "  Building wheel for wave (setup.py) ... \u001b[?25l\u001b[?25hdone\n",
            "  Created wheel for wave: filename=Wave-0.0.2-py3-none-any.whl size=1240 sha256=d5b32ea2cd1461e188a24025d5d044fb69b0435ecdf8195721d0869bae82b4ca\n",
            "  Stored in directory: /root/.cache/pip/wheels/25/e8/fe/458c7dac00c6abedad6380b9d0ef1a5cbc7c21807df1d30915\n",
            "  Building wheel for srt (setup.py) ... \u001b[?25l\u001b[?25hdone\n",
            "  Created wheel for srt: filename=srt-3.5.2-py3-none-any.whl size=22487 sha256=1dda310874f01e7bb0dacc254cff6c7c19928e33ce443b8e88b4d9466d1fefef\n",
            "  Stored in directory: /root/.cache/pip/wheels/54/c4/ec/4604122e072aebb16803c8297b7cd3f4c72073a3ee58738015\n",
            "Successfully built wget wave srt\n",
            "Installing collected packages: srt, wget, wave, vosk\n",
            "Successfully installed srt-3.5.2 vosk-0.3.42 wave-0.0.2 wget-3.2\n",
            "E: Invalid operation ffmpeg\n",
            "--2022-06-05 18:34:48--  https://alphacephei.com/vosk/models/vosk-model-en-us-0.22.zip\n",
            "Resolving alphacephei.com (alphacephei.com)... 188.40.21.16, 2a01:4f8:13a:279f::2\n",
            "Connecting to alphacephei.com (alphacephei.com)|188.40.21.16|:443... connected.\n",
            "HTTP request sent, awaiting response... 200 OK\n",
            "Length: 1913365522 (1.8G) [application/zip]\n",
            "Saving to: ‘models/vosk-model-en-us-0.22.zip’\n",
            "\n",
            "vosk-model-en-us-0. 100%[===================>]   1.78G  28.1MB/s    in 65s     \n",
            "\n",
            "2022-06-05 18:35:54 (28.1 MB/s) - ‘models/vosk-model-en-us-0.22.zip’ saved [1913365522/1913365522]\n",
            "\n",
            "Archive:  models/vosk-model-en-us-0.22.zip\n",
            "   creating: models/vosk-model-en-us-0.22/\n",
            "   creating: models/vosk-model-en-us-0.22/am/\n",
            "  inflating: models/vosk-model-en-us-0.22/am/final.mdl  \n",
            "  inflating: models/vosk-model-en-us-0.22/am/tree  \n",
            "   creating: models/vosk-model-en-us-0.22/ivector/\n",
            "  inflating: models/vosk-model-en-us-0.22/ivector/final.dubm  \n",
            "  inflating: models/vosk-model-en-us-0.22/ivector/final.ie  \n",
            "  inflating: models/vosk-model-en-us-0.22/ivector/final.mat  \n",
            "  inflating: models/vosk-model-en-us-0.22/ivector/splice.conf  \n",
            "  inflating: models/vosk-model-en-us-0.22/ivector/global_cmvn.stats  \n",
            "  inflating: models/vosk-model-en-us-0.22/ivector/online_cmvn.conf  \n",
            "  inflating: models/vosk-model-en-us-0.22/README  \n",
            "   creating: models/vosk-model-en-us-0.22/conf/\n",
            "  inflating: models/vosk-model-en-us-0.22/conf/mfcc.conf  \n",
            "  inflating: models/vosk-model-en-us-0.22/conf/model.conf  \n",
            "   creating: models/vosk-model-en-us-0.22/graph/\n",
            "  inflating: models/vosk-model-en-us-0.22/graph/disambig_tid.int  \n",
            "   creating: models/vosk-model-en-us-0.22/graph/phones/\n",
            " extracting: models/vosk-model-en-us-0.22/graph/phones/optional_silence.int  \n",
            " extracting: models/vosk-model-en-us-0.22/graph/phones/optional_silence.csl  \n",
            "  inflating: models/vosk-model-en-us-0.22/graph/phones/align_lexicon.int  \n",
            "  inflating: models/vosk-model-en-us-0.22/graph/phones/silence.csl  \n",
            "  inflating: models/vosk-model-en-us-0.22/graph/phones/align_lexicon.txt  \n",
            " extracting: models/vosk-model-en-us-0.22/graph/phones/optional_silence.txt  \n",
            "  inflating: models/vosk-model-en-us-0.22/graph/phones/disambig.txt  \n",
            "  inflating: models/vosk-model-en-us-0.22/graph/phones/word_boundary.int  \n",
            "  inflating: models/vosk-model-en-us-0.22/graph/phones/disambig.int  \n",
            "  inflating: models/vosk-model-en-us-0.22/graph/phones/word_boundary.txt  \n",
            "  inflating: models/vosk-model-en-us-0.22/graph/HCLG.fst  \n",
            " extracting: models/vosk-model-en-us-0.22/graph/num_pdfs  \n",
            "  inflating: models/vosk-model-en-us-0.22/graph/phones.txt  \n",
            "  inflating: models/vosk-model-en-us-0.22/graph/words.txt  \n",
            "   creating: models/vosk-model-en-us-0.22/rnnlm/\n",
            "  inflating: models/vosk-model-en-us-0.22/rnnlm/word_feats.txt  \n",
            "  inflating: models/vosk-model-en-us-0.22/rnnlm/special_symbol_opts.conf  \n",
            "  inflating: models/vosk-model-en-us-0.22/rnnlm/special_symbol_opts.txt  \n",
            "  inflating: models/vosk-model-en-us-0.22/rnnlm/feat_embedding.final.mat  \n",
            "  inflating: models/vosk-model-en-us-0.22/rnnlm/final.raw  \n",
            "   creating: models/vosk-model-en-us-0.22/rescore/\n",
            "  inflating: models/vosk-model-en-us-0.22/rescore/G.carpa  \n",
            "  inflating: models/vosk-model-en-us-0.22/rescore/G.fst  \n",
            "  inflating: models/vosk-model-en-us-0.22/conf/ivector.conf  \n"
          ]
        }
      ]
    },
    {
      "cell_type": "code",
      "source": [
        "!pip install pydub"
      ],
      "metadata": {
        "colab": {
          "base_uri": "https://localhost:8080/"
        },
        "id": "W4k2L2V3qWMD",
        "outputId": "6d9afa16-a9d3-41c3-a2e3-7d1b58d708d2"
      },
      "execution_count": 1,
      "outputs": [
        {
          "output_type": "stream",
          "name": "stdout",
          "text": [
            "Looking in indexes: https://pypi.org/simple, https://us-python.pkg.dev/colab-wheels/public/simple/\n",
            "Collecting pydub\n",
            "  Downloading pydub-0.25.1-py2.py3-none-any.whl (32 kB)\n",
            "Installing collected packages: pydub\n",
            "Successfully installed pydub-0.25.1\n"
          ]
        }
      ]
    },
    {
      "cell_type": "code",
      "source": [
        "from pydub import AudioSegment\n",
        "import os\n",
        "\n",
        "def mp3_to_wav(source, skip=0, excerpt=False):\n",
        "    \n",
        "    sound = AudioSegment.from_mp3(source) # load source\n",
        "    sound = sound.set_channels(1) # mono\n",
        "    sound = sound.set_frame_rate(16000) # 16000Hz\n",
        "    \n",
        "    if excerpt:\n",
        "        excrept = sound[skip*1000:skip*1000+60000] # 30 seconds - Does not work anymore when using skip\n",
        "        output_path = os.path.splitext(source)[0]+\"_excerpt.wav\"\n",
        "        excrept.export(output_path, format=\"wav\")\n",
        "    else:\n",
        "        audio = sound[skip*1000:]\n",
        "        output_path = os.path.splitext(source)[0]+\".wav\"\n",
        "        audio.export(output_path, format=\"wav\")\n",
        "    \n",
        "    return output_path"
      ],
      "metadata": {
        "id": "-ZvX11_RqWOq"
      },
      "execution_count": 3,
      "outputs": []
    },
    {
      "cell_type": "code",
      "source": [
        "!pip install vosk\n"
      ],
      "metadata": {
        "colab": {
          "base_uri": "https://localhost:8080/"
        },
        "id": "TFOcfaw1qWRQ",
        "outputId": "e31ccfb9-5a33-4da8-de61-06819c162b3a"
      },
      "execution_count": 4,
      "outputs": [
        {
          "output_type": "stream",
          "name": "stdout",
          "text": [
            "Looking in indexes: https://pypi.org/simple, https://us-python.pkg.dev/colab-wheels/public/simple/\n",
            "Requirement already satisfied: vosk in /usr/local/lib/python3.7/dist-packages (0.3.42)\n",
            "Requirement already satisfied: requests in /usr/local/lib/python3.7/dist-packages (from vosk) (2.23.0)\n",
            "Requirement already satisfied: srt in /usr/local/lib/python3.7/dist-packages (from vosk) (3.5.2)\n",
            "Requirement already satisfied: tqdm in /usr/local/lib/python3.7/dist-packages (from vosk) (4.64.0)\n",
            "Requirement already satisfied: cffi>=1.0 in /usr/local/lib/python3.7/dist-packages (from vosk) (1.15.0)\n",
            "Requirement already satisfied: pycparser in /usr/local/lib/python3.7/dist-packages (from cffi>=1.0->vosk) (2.21)\n",
            "Requirement already satisfied: idna<3,>=2.5 in /usr/local/lib/python3.7/dist-packages (from requests->vosk) (2.10)\n",
            "Requirement already satisfied: certifi>=2017.4.17 in /usr/local/lib/python3.7/dist-packages (from requests->vosk) (2022.5.18.1)\n",
            "Requirement already satisfied: urllib3!=1.25.0,!=1.25.1,<1.26,>=1.21.1 in /usr/local/lib/python3.7/dist-packages (from requests->vosk) (1.24.3)\n",
            "Requirement already satisfied: chardet<4,>=3.0.2 in /usr/local/lib/python3.7/dist-packages (from requests->vosk) (3.0.4)\n"
          ]
        }
      ]
    },
    {
      "cell_type": "code",
      "source": [
        "mp3_to_wav('/content/Test_podcat_file.mp3', 0, True)"
      ],
      "metadata": {
        "colab": {
          "base_uri": "https://localhost:8080/",
          "height": 1000
        },
        "id": "spfVQ314qWUE",
        "outputId": "fef6d013-ac9f-43a2-e0d2-d61842909d33"
      },
      "execution_count": 7,
      "outputs": [
        {
          "output_type": "error",
          "ename": "CouldntDecodeError",
          "evalue": "ignored",
          "traceback": [
            "\u001b[0;31m---------------------------------------------------------------------------\u001b[0m",
            "\u001b[0;31mCouldntDecodeError\u001b[0m                        Traceback (most recent call last)",
            "\u001b[0;32m<ipython-input-7-38ce5e30003e>\u001b[0m in \u001b[0;36m<module>\u001b[0;34m()\u001b[0m\n\u001b[0;32m----> 1\u001b[0;31m \u001b[0mmp3_to_wav\u001b[0m\u001b[0;34m(\u001b[0m\u001b[0;34m'/content/Recording1.mp3'\u001b[0m\u001b[0;34m,\u001b[0m \u001b[0;36m0\u001b[0m\u001b[0;34m,\u001b[0m \u001b[0;32mTrue\u001b[0m\u001b[0;34m)\u001b[0m\u001b[0;34m\u001b[0m\u001b[0;34m\u001b[0m\u001b[0m\n\u001b[0m",
            "\u001b[0;32m<ipython-input-3-9153ef8064ee>\u001b[0m in \u001b[0;36mmp3_to_wav\u001b[0;34m(source, skip, excerpt)\u001b[0m\n\u001b[1;32m      4\u001b[0m \u001b[0;32mdef\u001b[0m \u001b[0mmp3_to_wav\u001b[0m\u001b[0;34m(\u001b[0m\u001b[0msource\u001b[0m\u001b[0;34m,\u001b[0m \u001b[0mskip\u001b[0m\u001b[0;34m=\u001b[0m\u001b[0;36m0\u001b[0m\u001b[0;34m,\u001b[0m \u001b[0mexcerpt\u001b[0m\u001b[0;34m=\u001b[0m\u001b[0;32mFalse\u001b[0m\u001b[0;34m)\u001b[0m\u001b[0;34m:\u001b[0m\u001b[0;34m\u001b[0m\u001b[0;34m\u001b[0m\u001b[0m\n\u001b[1;32m      5\u001b[0m \u001b[0;34m\u001b[0m\u001b[0m\n\u001b[0;32m----> 6\u001b[0;31m     \u001b[0msound\u001b[0m \u001b[0;34m=\u001b[0m \u001b[0mAudioSegment\u001b[0m\u001b[0;34m.\u001b[0m\u001b[0mfrom_mp3\u001b[0m\u001b[0;34m(\u001b[0m\u001b[0msource\u001b[0m\u001b[0;34m)\u001b[0m \u001b[0;31m# load source\u001b[0m\u001b[0;34m\u001b[0m\u001b[0;34m\u001b[0m\u001b[0m\n\u001b[0m\u001b[1;32m      7\u001b[0m     \u001b[0msound\u001b[0m \u001b[0;34m=\u001b[0m \u001b[0msound\u001b[0m\u001b[0;34m.\u001b[0m\u001b[0mset_channels\u001b[0m\u001b[0;34m(\u001b[0m\u001b[0;36m1\u001b[0m\u001b[0;34m)\u001b[0m \u001b[0;31m# mono\u001b[0m\u001b[0;34m\u001b[0m\u001b[0;34m\u001b[0m\u001b[0m\n\u001b[1;32m      8\u001b[0m     \u001b[0msound\u001b[0m \u001b[0;34m=\u001b[0m \u001b[0msound\u001b[0m\u001b[0;34m.\u001b[0m\u001b[0mset_frame_rate\u001b[0m\u001b[0;34m(\u001b[0m\u001b[0;36m16000\u001b[0m\u001b[0;34m)\u001b[0m \u001b[0;31m# 16000Hz\u001b[0m\u001b[0;34m\u001b[0m\u001b[0;34m\u001b[0m\u001b[0m\n",
            "\u001b[0;32m/usr/local/lib/python3.7/dist-packages/pydub/audio_segment.py\u001b[0m in \u001b[0;36mfrom_mp3\u001b[0;34m(cls, file, parameters)\u001b[0m\n\u001b[1;32m    794\u001b[0m     \u001b[0;34m@\u001b[0m\u001b[0mclassmethod\u001b[0m\u001b[0;34m\u001b[0m\u001b[0;34m\u001b[0m\u001b[0m\n\u001b[1;32m    795\u001b[0m     \u001b[0;32mdef\u001b[0m \u001b[0mfrom_mp3\u001b[0m\u001b[0;34m(\u001b[0m\u001b[0mcls\u001b[0m\u001b[0;34m,\u001b[0m \u001b[0mfile\u001b[0m\u001b[0;34m,\u001b[0m \u001b[0mparameters\u001b[0m\u001b[0;34m=\u001b[0m\u001b[0;32mNone\u001b[0m\u001b[0;34m)\u001b[0m\u001b[0;34m:\u001b[0m\u001b[0;34m\u001b[0m\u001b[0;34m\u001b[0m\u001b[0m\n\u001b[0;32m--> 796\u001b[0;31m         \u001b[0;32mreturn\u001b[0m \u001b[0mcls\u001b[0m\u001b[0;34m.\u001b[0m\u001b[0mfrom_file\u001b[0m\u001b[0;34m(\u001b[0m\u001b[0mfile\u001b[0m\u001b[0;34m,\u001b[0m \u001b[0;34m'mp3'\u001b[0m\u001b[0;34m,\u001b[0m \u001b[0mparameters\u001b[0m\u001b[0;34m=\u001b[0m\u001b[0mparameters\u001b[0m\u001b[0;34m)\u001b[0m\u001b[0;34m\u001b[0m\u001b[0;34m\u001b[0m\u001b[0m\n\u001b[0m\u001b[1;32m    797\u001b[0m \u001b[0;34m\u001b[0m\u001b[0m\n\u001b[1;32m    798\u001b[0m     \u001b[0;34m@\u001b[0m\u001b[0mclassmethod\u001b[0m\u001b[0;34m\u001b[0m\u001b[0;34m\u001b[0m\u001b[0m\n",
            "\u001b[0;32m/usr/local/lib/python3.7/dist-packages/pydub/audio_segment.py\u001b[0m in \u001b[0;36mfrom_file\u001b[0;34m(cls, file, format, codec, parameters, start_second, duration, **kwargs)\u001b[0m\n\u001b[1;32m    773\u001b[0m             raise CouldntDecodeError(\n\u001b[1;32m    774\u001b[0m                 \"Decoding failed. ffmpeg returned error code: {0}\\n\\nOutput from ffmpeg/avlib:\\n\\n{1}\".format(\n\u001b[0;32m--> 775\u001b[0;31m                     p.returncode, p_err.decode(errors='ignore') ))\n\u001b[0m\u001b[1;32m    776\u001b[0m \u001b[0;34m\u001b[0m\u001b[0m\n\u001b[1;32m    777\u001b[0m         \u001b[0mp_out\u001b[0m \u001b[0;34m=\u001b[0m \u001b[0mbytearray\u001b[0m\u001b[0;34m(\u001b[0m\u001b[0mp_out\u001b[0m\u001b[0;34m)\u001b[0m\u001b[0;34m\u001b[0m\u001b[0;34m\u001b[0m\u001b[0m\n",
            "\u001b[0;31mCouldntDecodeError\u001b[0m: Decoding failed. ffmpeg returned error code: 1\n\nOutput from ffmpeg/avlib:\n\nffmpeg version 3.4.8-0ubuntu0.2 Copyright (c) 2000-2020 the FFmpeg developers\n  built with gcc 7 (Ubuntu 7.5.0-3ubuntu1~18.04)\n  configuration: --prefix=/usr --extra-version=0ubuntu0.2 --toolchain=hardened --libdir=/usr/lib/x86_64-linux-gnu --incdir=/usr/include/x86_64-linux-gnu --enable-gpl --disable-stripping --enable-avresample --enable-avisynth --enable-gnutls --enable-ladspa --enable-libass --enable-libbluray --enable-libbs2b --enable-libcaca --enable-libcdio --enable-libflite --enable-libfontconfig --enable-libfreetype --enable-libfribidi --enable-libgme --enable-libgsm --enable-libmp3lame --enable-libmysofa --enable-libopenjpeg --enable-libopenmpt --enable-libopus --enable-libpulse --enable-librubberband --enable-librsvg --enable-libshine --enable-libsnappy --enable-libsoxr --enable-libspeex --enable-libssh --enable-libtheora --enable-libtwolame --enable-libvorbis --enable-libvpx --enable-libwavpack --enable-libwebp --enable-libx265 --enable-libxml2 --enable-libxvid --enable-libzmq --enable-libzvbi --enable-omx --enable-openal --enable-opengl --enable-sdl2 --enable-libdc1394 --enable-libdrm --enable-libiec61883 --enable-chromaprint --enable-frei0r --enable-libopencv --enable-libx264 --enable-shared\n  libavutil      55. 78.100 / 55. 78.100\n  libavcodec     57.107.100 / 57.107.100\n  libavformat    57. 83.100 / 57. 83.100\n  libavdevice    57. 10.100 / 57. 10.100\n  libavfilter     6.107.100 /  6.107.100\n  libavresample   3.  7.  0 /  3.  7.  0\n  libswscale      4.  8.100 /  4.  8.100\n  libswresample   2.  9.100 /  2.  9.100\n  libpostproc    54.  7.100 / 54.  7.100\n[mp3 @ 0x5612e4084500] Header missing\n    Last message repeated 35 times\n[mp3 @ 0x5612e4070000] decoding for stream 0 failed\n[mp3 @ 0x5612e4070000] Could not find codec parameters for stream 0 (Audio: mp3, 0 channels, s16p): unspecified frame size\nConsider increasing the value for the 'analyzeduration' and 'probesize' options\nInput #0, mp3, from '/content/Recording1.mp3':\n  Duration: N/A, start: 0.000000, bitrate: N/A\n    Stream #0:0: Audio: mp3, 0 channels, s16p\nStream mapping:\n  Stream #0:0 -> #0:0 (mp3 (native) -> pcm_s16le (native))\nPress [q] to stop, [?] for help\n[mp3 @ 0x5612e4084a00] Header missing\nError while decoding stream #0:0: Invalid data found when processing input\n[mp3 @ 0x5612e4084a00] Header missing\nError while decoding stream #0:0: Invalid data found when processing input\n[mp3 @ 0x5612e4084a00] Header missing\nError while decoding stream #0:0: Invalid data found when processing input\n[mp3 @ 0x5612e4084a00] Header missing\nError while decoding stream #0:0: Invalid data found when processing input\n[mp3 @ 0x5612e4084a00] Header missing\nError while decoding stream #0:0: Invalid data found when processing input\n[mp3 @ 0x5612e4084a00] Header missing\nError while decoding stream #0:0: Invalid data found when processing input\n[mp3 @ 0x5612e4084a00] Header missing\nError while decoding stream #0:0: Invalid data found when processing input\n[mp3 @ 0x5612e4084a00] Header missing\nError while decoding stream #0:0: Invalid data found when processing input\n[mp3 @ 0x5612e4084a00] Header missing\nError while decoding stream #0:0: Invalid data found when processing input\n[mp3 @ 0x5612e4084a00] Header missing\nError while decoding stream #0:0: Invalid data found when processing input\n[mp3 @ 0x5612e4084a00] Header missing\nError while decoding stream #0:0: Invalid data found when processing input\n[mp3 @ 0x5612e4084a00] Header missing\nError while decoding stream #0:0: Invalid data found when processing input\n[mp3 @ 0x5612e4084a00] Header missing\nError while decoding stream #0:0: Invalid data found when processing input\n[mp3 @ 0x5612e4084a00] Header missing\nError while decoding stream #0:0: Invalid data found when processing input\n[mp3 @ 0x5612e4084a00] Header missing\nError while decoding stream #0:0: Invalid data found when processing input\n[mp3 @ 0x5612e4084a00] Header missing\nError while decoding stream #0:0: Invalid data found when processing input\n[mp3 @ 0x5612e4084a00] Header missing\nError while decoding stream #0:0: Invalid data found when processing input\n[mp3 @ 0x5612e4084a00] Header missing\nError while decoding stream #0:0: Invalid data found when processing input\n[mp3 @ 0x5612e4084a00] Header missing\nError while decoding stream #0:0: Invalid data found when processing input\n[mp3 @ 0x5612e4084a00] Header missing\nError while decoding stream #0:0: Invalid data found when processing input\n[mp3 @ 0x5612e4084a00] Header missing\nError while decoding stream #0:0: Invalid data found when processing input\n[mp3 @ 0x5612e4084a00] Header missing\nError while decoding stream #0:0: Invalid data found when processing input\n[mp3 @ 0x5612e4084a00] Header missing\nError while decoding stream #0:0: Invalid data found when processing input\n[mp3 @ 0x5612e4084a00] Header missing\nError while decoding stream #0:0: Invalid data found when processing input\n[mp3 @ 0x5612e4084a00] Header missing\nError while decoding stream #0:0: Invalid data found when processing input\n[mp3 @ 0x5612e4084a00] Header missing\nError while decoding stream #0:0: Invalid data found when processing input\n[mp3 @ 0x5612e4084a00] Header missing\nError while decoding stream #0:0: Invalid data found when processing input\n[mp3 @ 0x5612e4084a00] Header missing\nError while decoding stream #0:0: Invalid data found when processing input\n[mp3 @ 0x5612e4084a00] Header missing\nError while decoding stream #0:0: Invalid data found when processing input\n[mp3 @ 0x5612e4084a00] Header missing\nError while decoding stream #0:0: Invalid data found when processing input\n[mp3 @ 0x5612e4084a00] Header missing\nError while decoding stream #0:0: Invalid data found when processing input\n[mp3 @ 0x5612e4084a00] Header missing\nError while decoding stream #0:0: Invalid data found when processing input\n[mp3 @ 0x5612e4084a00] Header missing\nError while decoding stream #0:0: Invalid data found when processing input\n[mp3 @ 0x5612e4084a00] Header missing\nError while decoding stream #0:0: Invalid data found when processing input\n[mp3 @ 0x5612e4084a00] Header missing\nError while decoding stream #0:0: Invalid data found when processing input\n[mp3 @ 0x5612e4084a00] Header missing\nError while decoding stream #0:0: Invalid data found when processing input\nFinishing stream 0:0 without any data written to it.\n[abuffer @ 0x5612e404e300] Value inf for parameter 'time_base' out of range [0 - 2.14748e+09]\n    Last message repeated 3 times\n[abuffer @ 0x5612e404e300] Error setting option time_base to value 1/0.\n[graph_0_in_0_0 @ 0x5612e4069180] Error applying options to the filter.\nError configuring filter graph\nConversion failed!\n"
          ]
        }
      ]
    },
    {
      "cell_type": "code",
      "source": [
        "from google.colab import drive\n",
        "drive.mount('/content/drive')"
      ],
      "metadata": {
        "colab": {
          "base_uri": "https://localhost:8080/"
        },
        "id": "lmk3Hl3NxaKp",
        "outputId": "0e1fb418-64b6-4f62-8a60-09c5069efb9f"
      },
      "execution_count": 6,
      "outputs": [
        {
          "output_type": "stream",
          "name": "stdout",
          "text": [
            "Drive already mounted at /content/drive; to attempt to forcibly remount, call drive.mount(\"/content/drive\", force_remount=True).\n"
          ]
        }
      ]
    },
    {
      "cell_type": "code",
      "source": [
        "from vosk import Model, KaldiRecognizer, SetLogLevel\n",
        "from tqdm.notebook import tqdm\n",
        "import wave\n",
        "import os\n",
        "import json\n",
        "\n",
        "def transcript_file(input_file, model_path):\n",
        "    \n",
        "    # Check if file exists\n",
        "    if not os.path.isfile(input_file):\n",
        "        raise FileNotFoundError(os.path.basename(input_file) + \" not found\")    \n",
        "    \n",
        "    # Check if model path exists\n",
        "    if not os.path.exists(model_path):\n",
        "        raise FileNotFoundError(os.path.basename(model_path) + \" not found\")\n",
        "\n",
        "    # open audio file\n",
        "    wf = wave.open(input_file, \"rb\")\n",
        "    \n",
        "    # check if wave file has the right properties\n",
        "    if wf.getnchannels() != 1 or wf.getsampwidth() != 2 or wf.getcomptype() != \"NONE\":\n",
        "        raise TypeError(\"Audio file must be WAV format mono PCM.\")\n",
        "    \n",
        "    # Initialize model\n",
        "    model = Model(model_path)\n",
        "    rec = KaldiRecognizer(model, wf.getframerate())\n",
        "    \n",
        "    # Get file size (to calculate progress bar)\n",
        "    file_size = os.path.getsize(input_file)\n",
        "    \n",
        "    # Run transcription\n",
        "    pbar = tqdm(total=file_size)\n",
        "\n",
        "    # To store our results\n",
        "    transcription = []\n",
        "\n",
        "    while True:\n",
        "        data = wf.readframes(4000) # use buffer of 4000\n",
        "        pbar.update(len(data))\n",
        "        if len(data) == 0:\n",
        "            pbar.set_description(\"Transcription finished\")\n",
        "            break\n",
        "        if rec.AcceptWaveform(data):\n",
        "            # Convert json output to dict\n",
        "            result_dict = json.loads(rec.Result())\n",
        "            # Extract text values and append them to transcription list\n",
        "            transcription.append(result_dict.get(\"text\", \"\"))\n",
        "\n",
        "    # Get final bits of audio and flush the pipeline\n",
        "    final_result = json.loads(rec.FinalResult())\n",
        "    transcription.append(final_result.get(\"text\", \"\"))\n",
        "    \n",
        "    transcription_text = ' '.join(transcription)\n",
        "    \n",
        "    return transcription_text"
      ],
      "metadata": {
        "id": "m2SM-sj7qWWe"
      },
      "execution_count": 5,
      "outputs": []
    },
    {
      "cell_type": "code",
      "source": [
        ""
      ],
      "metadata": {
        "id": "QOaSuU3S_7cR"
      },
      "execution_count": null,
      "outputs": []
    },
    {
      "cell_type": "code",
      "source": [
        ""
      ],
      "metadata": {
        "id": "2BrjTy5H_7fr"
      },
      "execution_count": null,
      "outputs": []
    },
    {
      "cell_type": "code",
      "source": [
        "transcription = transcript_file('/content/Recording1.wav', '/content/models/vosk-model-en-us-0.22')"
      ],
      "metadata": {
        "colab": {
          "base_uri": "https://localhost:8080/",
          "height": 311
        },
        "id": "iJJW_rUjqWZG",
        "outputId": "b723107c-1bab-4448-9431-c319b1ea526f"
      },
      "execution_count": 6,
      "outputs": [
        {
          "output_type": "error",
          "ename": "Error",
          "evalue": "ignored",
          "traceback": [
            "\u001b[0;31m---------------------------------------------------------------------------\u001b[0m",
            "\u001b[0;31mError\u001b[0m                                     Traceback (most recent call last)",
            "\u001b[0;32m<ipython-input-6-3b10988867da>\u001b[0m in \u001b[0;36m<module>\u001b[0;34m()\u001b[0m\n\u001b[0;32m----> 1\u001b[0;31m \u001b[0mtranscription\u001b[0m \u001b[0;34m=\u001b[0m \u001b[0mtranscript_file\u001b[0m\u001b[0;34m(\u001b[0m\u001b[0;34m'/content/Recording1.wav'\u001b[0m\u001b[0;34m,\u001b[0m \u001b[0;34m'/content/models/vosk-model-en-us-0.22'\u001b[0m\u001b[0;34m)\u001b[0m\u001b[0;34m\u001b[0m\u001b[0;34m\u001b[0m\u001b[0m\n\u001b[0m",
            "\u001b[0;32m<ipython-input-5-1695a5f72fca>\u001b[0m in \u001b[0;36mtranscript_file\u001b[0;34m(input_file, model_path)\u001b[0m\n\u001b[1;32m     16\u001b[0m \u001b[0;34m\u001b[0m\u001b[0m\n\u001b[1;32m     17\u001b[0m     \u001b[0;31m# open audio file\u001b[0m\u001b[0;34m\u001b[0m\u001b[0;34m\u001b[0m\u001b[0;34m\u001b[0m\u001b[0m\n\u001b[0;32m---> 18\u001b[0;31m     \u001b[0mwf\u001b[0m \u001b[0;34m=\u001b[0m \u001b[0mwave\u001b[0m\u001b[0;34m.\u001b[0m\u001b[0mopen\u001b[0m\u001b[0;34m(\u001b[0m\u001b[0minput_file\u001b[0m\u001b[0;34m,\u001b[0m \u001b[0;34m\"rb\"\u001b[0m\u001b[0;34m)\u001b[0m\u001b[0;34m\u001b[0m\u001b[0;34m\u001b[0m\u001b[0m\n\u001b[0m\u001b[1;32m     19\u001b[0m \u001b[0;34m\u001b[0m\u001b[0m\n\u001b[1;32m     20\u001b[0m     \u001b[0;31m# check if wave file has the right properties\u001b[0m\u001b[0;34m\u001b[0m\u001b[0;34m\u001b[0m\u001b[0;34m\u001b[0m\u001b[0m\n",
            "\u001b[0;32m/usr/lib/python3.7/wave.py\u001b[0m in \u001b[0;36mopen\u001b[0;34m(f, mode)\u001b[0m\n\u001b[1;32m    508\u001b[0m             \u001b[0mmode\u001b[0m \u001b[0;34m=\u001b[0m \u001b[0;34m'rb'\u001b[0m\u001b[0;34m\u001b[0m\u001b[0;34m\u001b[0m\u001b[0m\n\u001b[1;32m    509\u001b[0m     \u001b[0;32mif\u001b[0m \u001b[0mmode\u001b[0m \u001b[0;32min\u001b[0m \u001b[0;34m(\u001b[0m\u001b[0;34m'r'\u001b[0m\u001b[0;34m,\u001b[0m \u001b[0;34m'rb'\u001b[0m\u001b[0;34m)\u001b[0m\u001b[0;34m:\u001b[0m\u001b[0;34m\u001b[0m\u001b[0;34m\u001b[0m\u001b[0m\n\u001b[0;32m--> 510\u001b[0;31m         \u001b[0;32mreturn\u001b[0m \u001b[0mWave_read\u001b[0m\u001b[0;34m(\u001b[0m\u001b[0mf\u001b[0m\u001b[0;34m)\u001b[0m\u001b[0;34m\u001b[0m\u001b[0;34m\u001b[0m\u001b[0m\n\u001b[0m\u001b[1;32m    511\u001b[0m     \u001b[0;32melif\u001b[0m \u001b[0mmode\u001b[0m \u001b[0;32min\u001b[0m \u001b[0;34m(\u001b[0m\u001b[0;34m'w'\u001b[0m\u001b[0;34m,\u001b[0m \u001b[0;34m'wb'\u001b[0m\u001b[0;34m)\u001b[0m\u001b[0;34m:\u001b[0m\u001b[0;34m\u001b[0m\u001b[0;34m\u001b[0m\u001b[0m\n\u001b[1;32m    512\u001b[0m         \u001b[0;32mreturn\u001b[0m \u001b[0mWave_write\u001b[0m\u001b[0;34m(\u001b[0m\u001b[0mf\u001b[0m\u001b[0;34m)\u001b[0m\u001b[0;34m\u001b[0m\u001b[0;34m\u001b[0m\u001b[0m\n",
            "\u001b[0;32m/usr/lib/python3.7/wave.py\u001b[0m in \u001b[0;36m__init__\u001b[0;34m(self, f)\u001b[0m\n\u001b[1;32m    162\u001b[0m         \u001b[0;31m# else, assume it is an open file object already\u001b[0m\u001b[0;34m\u001b[0m\u001b[0;34m\u001b[0m\u001b[0;34m\u001b[0m\u001b[0m\n\u001b[1;32m    163\u001b[0m         \u001b[0;32mtry\u001b[0m\u001b[0;34m:\u001b[0m\u001b[0;34m\u001b[0m\u001b[0;34m\u001b[0m\u001b[0m\n\u001b[0;32m--> 164\u001b[0;31m             \u001b[0mself\u001b[0m\u001b[0;34m.\u001b[0m\u001b[0minitfp\u001b[0m\u001b[0;34m(\u001b[0m\u001b[0mf\u001b[0m\u001b[0;34m)\u001b[0m\u001b[0;34m\u001b[0m\u001b[0;34m\u001b[0m\u001b[0m\n\u001b[0m\u001b[1;32m    165\u001b[0m         \u001b[0;32mexcept\u001b[0m\u001b[0;34m:\u001b[0m\u001b[0;34m\u001b[0m\u001b[0;34m\u001b[0m\u001b[0m\n\u001b[1;32m    166\u001b[0m             \u001b[0;32mif\u001b[0m \u001b[0mself\u001b[0m\u001b[0;34m.\u001b[0m\u001b[0m_i_opened_the_file\u001b[0m\u001b[0;34m:\u001b[0m\u001b[0;34m\u001b[0m\u001b[0;34m\u001b[0m\u001b[0m\n",
            "\u001b[0;32m/usr/lib/python3.7/wave.py\u001b[0m in \u001b[0;36minitfp\u001b[0;34m(self, file)\u001b[0m\n\u001b[1;32m    129\u001b[0m         \u001b[0mself\u001b[0m\u001b[0;34m.\u001b[0m\u001b[0m_file\u001b[0m \u001b[0;34m=\u001b[0m \u001b[0mChunk\u001b[0m\u001b[0;34m(\u001b[0m\u001b[0mfile\u001b[0m\u001b[0;34m,\u001b[0m \u001b[0mbigendian\u001b[0m \u001b[0;34m=\u001b[0m \u001b[0;36m0\u001b[0m\u001b[0;34m)\u001b[0m\u001b[0;34m\u001b[0m\u001b[0;34m\u001b[0m\u001b[0m\n\u001b[1;32m    130\u001b[0m         \u001b[0;32mif\u001b[0m \u001b[0mself\u001b[0m\u001b[0;34m.\u001b[0m\u001b[0m_file\u001b[0m\u001b[0;34m.\u001b[0m\u001b[0mgetname\u001b[0m\u001b[0;34m(\u001b[0m\u001b[0;34m)\u001b[0m \u001b[0;34m!=\u001b[0m \u001b[0;34mb'RIFF'\u001b[0m\u001b[0;34m:\u001b[0m\u001b[0;34m\u001b[0m\u001b[0;34m\u001b[0m\u001b[0m\n\u001b[0;32m--> 131\u001b[0;31m             \u001b[0;32mraise\u001b[0m \u001b[0mError\u001b[0m\u001b[0;34m(\u001b[0m\u001b[0;34m'file does not start with RIFF id'\u001b[0m\u001b[0;34m)\u001b[0m\u001b[0;34m\u001b[0m\u001b[0;34m\u001b[0m\u001b[0m\n\u001b[0m\u001b[1;32m    132\u001b[0m         \u001b[0;32mif\u001b[0m \u001b[0mself\u001b[0m\u001b[0;34m.\u001b[0m\u001b[0m_file\u001b[0m\u001b[0;34m.\u001b[0m\u001b[0mread\u001b[0m\u001b[0;34m(\u001b[0m\u001b[0;36m4\u001b[0m\u001b[0;34m)\u001b[0m \u001b[0;34m!=\u001b[0m \u001b[0;34mb'WAVE'\u001b[0m\u001b[0;34m:\u001b[0m\u001b[0;34m\u001b[0m\u001b[0;34m\u001b[0m\u001b[0m\n\u001b[1;32m    133\u001b[0m             \u001b[0;32mraise\u001b[0m \u001b[0mError\u001b[0m\u001b[0;34m(\u001b[0m\u001b[0;34m'not a WAVE file'\u001b[0m\u001b[0;34m)\u001b[0m\u001b[0;34m\u001b[0m\u001b[0;34m\u001b[0m\u001b[0m\n",
            "\u001b[0;31mError\u001b[0m: file does not start with RIFF id"
          ]
        }
      ]
    },
    {
      "cell_type": "code",
      "source": [
        "transcription"
      ],
      "metadata": {
        "colab": {
          "base_uri": "https://localhost:8080/",
          "height": 122
        },
        "id": "VzoBlFmuqWb4",
        "outputId": "1e6c5134-08e4-4fff-de1d-ec7c788778b7"
      },
      "execution_count": 4,
      "outputs": [
        {
          "output_type": "execute_result",
          "data": {
            "text/plain": [
              "\"hey everybody welcome to the podcast my yesterday's dr andrew huber man andrew is a neuroscientist he is a neurobiology professor at stanford medical school and mcknight foundation and pew foundation fellow and the founder of humor min lab where he is involved in all kinds of really amazing breakthrough research on brain function brain plasticity and brain regeneration his work has been published in top journals like nature he's been featured in publications like time scientific american the bbc and he's here today to discuss the brain to discuss growth mindset how to focus how to navigate the stressful times and many other subjects it's an incredible conversation i think you guys are going to enjoy it i appreciate you watching make sure to hit that subscribe button and without further ado this is me and dr andrew huber meant and\""
            ],
            "application/vnd.google.colaboratory.intrinsic+json": {
              "type": "string"
            }
          },
          "metadata": {},
          "execution_count": 4
        }
      ]
    },
    {
      "cell_type": "code",
      "source": [
        ""
      ],
      "metadata": {
        "id": "7dBGxkAAqWfb"
      },
      "execution_count": null,
      "outputs": []
    }
  ]
}